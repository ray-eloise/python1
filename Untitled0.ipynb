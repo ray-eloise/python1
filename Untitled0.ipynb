{
  "nbformat": 4,
  "nbformat_minor": 0,
  "metadata": {
    "colab": {
      "provenance": [],
      "authorship_tag": "ABX9TyPhvIZqCBDRWlwNnB3m6Jgy",
      "include_colab_link": true
    },
    "kernelspec": {
      "name": "python3",
      "display_name": "Python 3"
    },
    "language_info": {
      "name": "python"
    }
  },
  "cells": [
    {
      "cell_type": "markdown",
      "metadata": {
        "id": "view-in-github",
        "colab_type": "text"
      },
      "source": [
        "<a href=\"https://colab.research.google.com/github/ray-eloise/python1/blob/main/Untitled0.ipynb\" target=\"_parent\"><img src=\"https://colab.research.google.com/assets/colab-badge.svg\" alt=\"Open In Colab\"/></a>"
      ]
    },
    {
      "cell_type": "code",
      "execution_count": 2,
      "metadata": {
        "colab": {
          "base_uri": "https://localhost:8080/"
        },
        "id": "tXFMpjFKL0UD",
        "outputId": "de524b68-cad5-4860-ed4d-ad6e25bff3cb"
      },
      "outputs": [
        {
          "output_type": "stream",
          "name": "stdout",
          "text": [
            "Primeira competição de programação dá start\n",
            "2025 Competição de programação da estática\n",
            "2030 competição de programação da Start\n"
          ]
        }
      ],
      "source": [
        "print(\"Primeira competição de programação dá start\")\n",
        "ano = \"2025\"\n",
        "print(ano, \"Competição de programação da estática\")\n",
        "ano = \"2030\"\n",
        "print(f\"{ano} competição de programação da Start\")"
      ]
    },
    {
      "cell_type": "code",
      "source": [
        "## Aula 2\n",
        "livro_ficcao = 8\n",
        "livro_n_ficcao = 10\n",
        "livro_infantil = 6\n",
        "pontos_rodrigo = livro_ficcao + livro_n_ficcao + livro_infantil\n",
        "print(f\"Os pontos totais do Rodrigo são {pontos_rodrigo}\")\n",
        "livro_ficcao = 2\n",
        "livro_n_ficcao = 0\n",
        "livro_infantil = 5\n",
        "pontos_ana = livro_ficcao + livro_n_ficcao + livro_infantil\n",
        "print(f\"Os pontos totais de Ana são {pontos_ana}\")"
      ],
      "metadata": {
        "colab": {
          "base_uri": "https://localhost:8080/"
        },
        "id": "bLW15jwONI_7",
        "outputId": "b51c68ce-2e4c-4a9a-f99f-bfab4da45c7d"
      },
      "execution_count": 4,
      "outputs": [
        {
          "output_type": "stream",
          "name": "stdout",
          "text": [
            "Os pontos totais do Rodrigo são 24\n",
            "Os pontos totais de Ana são 7\n"
          ]
        }
      ]
    },
    {
      "cell_type": "code",
      "source": [
        "## Aula 3\n",
        "total_de_figurinhas = int(input(\"Digite o total de figurinhas:\"))\n",
        "numero_de_amigos = int(input(\"Digite o número de amigos:\"))\n",
        "figurinhas_amigo = total_de_figurinhas // (numero_de_amigos + 2)\n",
        "print(f\"João recebeu {figurinhas_joao} figurinhas\")\n"
      ],
      "metadata": {
        "colab": {
          "base_uri": "https://localhost:8080/"
        },
        "id": "zR8HOzfKOB8R",
        "outputId": "fcb469ac-b023-4845-fdfe-30d9c7739566"
      },
      "execution_count": 8,
      "outputs": [
        {
          "output_type": "stream",
          "name": "stdout",
          "text": [
            "Digite o total de figurinhas:20\n",
            "Digite o número de amigos:2\n",
            "João recebeu 10 figurinhas\n"
          ]
        }
      ]
    },
    {
      "cell_type": "code",
      "source": [
        "## Aula 4\n",
        "numero_de_alunos = int(input(\"Digite a quantidade de alunos: \"))\n",
        "numero_de_monitores = int(input(\"Digite a quantidade de monitores: \"))\n",
        "if numero_de_alunos + numero_de_monitores <=50:\n",
        "  resposta_positiva = \"pode ir\"\n",
        "  print(resposta_positiva)\n",
        "if numero_de_alunos + numero_de_monitores >=50:\n",
        "  resposta_negativa = \"não pode ir\"\n",
        "print(resposta_negativa)"
      ],
      "metadata": {
        "colab": {
          "base_uri": "https://localhost:8080/"
        },
        "id": "ZBKFAYSmQoXv",
        "outputId": "552b8fb8-4607-457f-f711-668dc99e89da"
      },
      "execution_count": 21,
      "outputs": [
        {
          "output_type": "stream",
          "name": "stdout",
          "text": [
            "Digite a quantidade de alunos: 55\n",
            "Digite a quantidade de monitores: 10\n",
            "não pode ir\n"
          ]
        }
      ]
    }
  ]
}